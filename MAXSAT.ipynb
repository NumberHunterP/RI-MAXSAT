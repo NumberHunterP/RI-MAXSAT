{
 "cells": [
  {
   "cell_type": "code",
   "execution_count": 1,
   "metadata": {},
   "outputs": [],
   "source": [
    "import random\n",
    "import copy"
   ]
  },
  {
   "cell_type": "code",
   "execution_count": 2,
   "metadata": {},
   "outputs": [],
   "source": [
    "def initialize(number_of_variables): # inicijalizacija pocetne valuacije\n",
    "    u = []\n",
    "    for i in range(number_of_variables):\n",
    "        if random.random() < 0.5:\n",
    "            u.append(True)\n",
    "        else:\n",
    "            u.append(False)\n",
    "    return u"
   ]
  },
  {
   "cell_type": "code",
   "execution_count": 3,
   "metadata": {},
   "outputs": [],
   "source": [
    "def evaluate_truth_assignment(u, c): # evaluacija trenutne valuacije, broji se koliko klauza je zadovoljeno tom valuacijom, ovo je funkcija cilja koja se maksimizuje\n",
    "    num_satisfied = 0\n",
    "\n",
    "    for clause in c:\n",
    "        satisfied = False\n",
    "        \n",
    "        for literal in clause:\n",
    "            if literal > 0:\n",
    "                if(u[literal - 1]):\n",
    "                    satisfied = True\n",
    "            else:\n",
    "                literal = -literal\n",
    "                if(not (u[literal - 1])):\n",
    "                    satisfied = True\n",
    "\n",
    "        if(satisfied):\n",
    "            num_satisfied = num_satisfied + 1\n",
    "\n",
    "    return num_satisfied"
   ]
  },
  {
   "cell_type": "code",
   "execution_count": 4,
   "metadata": {},
   "outputs": [],
   "source": [
    "def generate_new_assignment(u): # u svakoj iteraciji se pravi nova valuacija od prethodne, tako sto se jedna promenljiva promeni iz True u False ili obrnuto\n",
    "    index = random.randrange(len(u))\n",
    "    u[index] = not (u[index])\n",
    "    return index"
   ]
  },
  {
   "cell_type": "code",
   "execution_count": 5,
   "metadata": {},
   "outputs": [],
   "source": [
    "def bf_generate_assignment(number_of_variables, bf_iteration): # generisanje valuacija u brute force algoritmu\n",
    "    u = []\n",
    "    a = bf_iteration\n",
    "    for i in range(number_of_variables):\n",
    "        u.append(a % 2 == 1)\n",
    "        a = a // 2\n",
    "    return u"
   ]
  },
  {
   "cell_type": "code",
   "execution_count": 6,
   "metadata": {},
   "outputs": [],
   "source": [
    "def brute_force(number_of_variables, c): # brute force algoritam\n",
    "    total_attempts = 2 ** number_of_variables\n",
    "    best = 0\n",
    "    best_assignment = bf_generate_assignment(number_of_variables, 0)\n",
    "\n",
    "    for i in range(total_attempts):\n",
    "        u = bf_generate_assignment(number_of_variables, i)\n",
    "        eval = evaluate_truth_assignment(u, c)\n",
    "        if eval > best:\n",
    "            best = eval\n",
    "            best_assignment = copy.deepcopy(u)\n",
    "\n",
    "    return best_assignment, best"
   ]
  },
  {
   "cell_type": "code",
   "execution_count": 7,
   "metadata": {},
   "outputs": [],
   "source": [
    "def simulated_annealing(number_of_variables, c, iterations): # simulirano kaljenje za aproksimaciju maksimalne zadovoljivosti\n",
    "    u = initialize(number_of_variables) # inicijalizacija pocetne valuacije\n",
    "\n",
    "    current_optimal_evaluation = evaluate_truth_assignment(u, c)\n",
    "    global_optimal_evaluation = current_optimal_evaluation\n",
    "    current_best_assignment = copy.deepcopy(u)\n",
    "    global_best_assignment = copy.deepcopy(u) # pocetna valuacija je jedina koju smo razmatrali, tako da je za sada najbolja\n",
    "\n",
    "    for i in range(1, iterations+1): # posto u racunanju p delimo sa korenom iz i, i mora da krene od 1\n",
    "        changed_index = generate_new_assignment(u) # kreira se nova valuacija, pamti se indeks gde je bila izmena u slucaju da je resenje losije\n",
    "        new_evaluation = evaluate_truth_assignment(u, c) # izracunavanje funkcije cilja\n",
    "\n",
    "        if new_evaluation > current_optimal_evaluation: # ako je za trenutno resenje funkcija cilja u lokalnom maksimumu, cuva se kao lokalno najbolje\n",
    "            current_optimal_evaluation = new_evaluation\n",
    "            current_best_assignment = copy.deepcopy(u)\n",
    "            if new_evaluation > global_optimal_evaluation: # ako je za trenutno resenje funkcija cilja u globalnom maksimumu, cuva se kao globalno najbolje\n",
    "                global_optimal_evaluation = new_evaluation\n",
    "                global_best_assignment = copy.deepcopy(u)\n",
    "        else: # racunanje p i q direktno preuzeto iz koda sa vezbi, koristi se takodje algoritam simuliranog kaljenja, ali za drugi problem\n",
    "            # (https://github.com/MATF-RI/Materijali-sa-vezbi/blob/master/2021_2022/live/03_s_metaheuristics.ipynb)\n",
    "            # ponekad se nastavlja iz resenja koje nije najbolje da bi se izaslo iz lokalnog maksimuma, ali je verovatnoca za to sve manja svakom sledecom iteracijom\n",
    "            p = 1.0 / i ** 0.5\n",
    "            q = random.uniform(0, 1)\n",
    "            if p > q: # prelazak u novo resenje iako nije bolje\n",
    "                current_optimal_evaluation = new_evaluation\n",
    "                current_best_assignment = copy.deepcopy(u)\n",
    "            else: # povratak u prethodno\n",
    "                u[changed_index] = not u[changed_index]\n",
    "\n",
    "    return global_best_assignment, global_optimal_evaluation # algoritam vraca najbolju valuaciju i broj klauza zadovoljen najboljom pronadjenom valuacijom"
   ]
  },
  {
   "cell_type": "code",
   "execution_count": null,
   "metadata": {},
   "outputs": [],
   "source": [
    "dimacsfile = open(\"random_dimacs5.txt\", \"r\") # ulaz programa je dimacs fajl, pretpostavlja se da je sadrzaj fajla ispravan i da nema komentare\n",
    "\n",
    "startline = dimacsfile.readline()\n",
    "args = startline.split()\n",
    "number_of_variables = int(args[2]) # izdvajaju se broj iskaznih promenljivih i broj klauza\n",
    "number_of_clauses = int(args[3])\n",
    "\n",
    "c = [] # lista klauza\n",
    "\n",
    "print(\"Number of variables: \" + str(number_of_variables))\n",
    "print(\"Number of clauses: \" + str(number_of_clauses))\n",
    "\n",
    "for i in range(number_of_clauses): # ucitavanje klauza iz dimacs fajla\n",
    "    current_clause = []\n",
    "    current_clause_string = dimacsfile.readline()\n",
    "    list_of_literals = current_clause_string.split()\n",
    "    for literal in list_of_literals:\n",
    "        if(not (literal == '0')):\n",
    "            current_clause.append(int(literal))\n",
    "        else:\n",
    "            break\n",
    "    c.append(current_clause)\n",
    "\n",
    "print(\"Clauses: \" + str(c))\n",
    "\n",
    "dimacsfile.close()"
   ]
  },
  {
   "cell_type": "code",
   "execution_count": 403,
   "metadata": {},
   "outputs": [],
   "source": [
    "u_best, max_satisfied_clauses = simulated_annealing(number_of_variables, c, 8000) # pokretanje algoritma simuliranog kaljenja i ispis rezultata\n",
    "\n",
    "print(\"Best truth assignment: \" + str(u_best))\n",
    "print(\"Maximum number of satisfied clauses: \" + str(max_satisfied_clauses))"
   ]
  },
  {
   "cell_type": "code",
   "execution_count": null,
   "metadata": {},
   "outputs": [],
   "source": [
    "# kod ispod se pokrece samo ako se brute force algorithm moze izvrsiti u razumnom vremenu\n",
    "\n",
    "u_best, max_satisfied_clauses = brute_force(number_of_variables, c)\n",
    "\n",
    "print(\"Best truth assignment according to brute force: \" + str(u_best))\n",
    "print(\"Maximum number of satisfied clauses according to brute force: \" + str(max_satisfied_clauses))"
   ]
  }
 ],
 "metadata": {
  "kernelspec": {
   "display_name": "Python 3",
   "language": "python",
   "name": "python3"
  },
  "language_info": {
   "codemirror_mode": {
    "name": "ipython",
    "version": 3
   },
   "file_extension": ".py",
   "mimetype": "text/x-python",
   "name": "python",
   "nbconvert_exporter": "python",
   "pygments_lexer": "ipython3",
   "version": "3.10.11"
  },
  "orig_nbformat": 4
 },
 "nbformat": 4,
 "nbformat_minor": 2
}
